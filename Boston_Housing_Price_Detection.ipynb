{
  "nbformat": 4,
  "nbformat_minor": 0,
  "metadata": {
    "colab": {
      "name": "Boston_Housing_Price_Detection.ipynb",
      "provenance": [],
      "collapsed_sections": [],
      "authorship_tag": "ABX9TyNeix5n8sFokrxoKlDm5OFT",
      "include_colab_link": true
    },
    "kernelspec": {
      "name": "python3",
      "display_name": "Python 3"
    },
    "language_info": {
      "name": "python"
    }
  },
  "cells": [
    {
      "cell_type": "markdown",
      "metadata": {
        "id": "view-in-github",
        "colab_type": "text"
      },
      "source": [
        "<a href=\"https://colab.research.google.com/github/dayaniravi123/Fruit-Detection/blob/main/Boston_Housing_Price_Detection.ipynb\" target=\"_parent\"><img src=\"https://colab.research.google.com/assets/colab-badge.svg\" alt=\"Open In Colab\"/></a>"
      ]
    },
    {
      "cell_type": "code",
      "execution_count": 1,
      "metadata": {
        "id": "Y-tr3L_rTdth"
      },
      "outputs": [],
      "source": [
        "import tensorflow as tf"
      ]
    },
    {
      "cell_type": "code",
      "source": [
        "dataset = tf.keras.datasets.boston_housing"
      ],
      "metadata": {
        "id": "To9eLoOZTjU5"
      },
      "execution_count": 2,
      "outputs": []
    },
    {
      "cell_type": "code",
      "source": [
        "(X_train, y_train), (X_test, y_test) = dataset.load_data()"
      ],
      "metadata": {
        "id": "ntYuhb_iTrry"
      },
      "execution_count": 10,
      "outputs": []
    },
    {
      "cell_type": "code",
      "source": [
        "X_train.shape"
      ],
      "metadata": {
        "colab": {
          "base_uri": "https://localhost:8080/"
        },
        "id": "07zGrx0cTs03",
        "outputId": "6689c111-dd2f-4b25-d24e-3a16d7e832be"
      },
      "execution_count": 22,
      "outputs": [
        {
          "output_type": "execute_result",
          "data": {
            "text/plain": [
              "(404, 13)"
            ]
          },
          "metadata": {},
          "execution_count": 22
        }
      ]
    },
    {
      "cell_type": "code",
      "source": [
        "X_train[:,1].shape"
      ],
      "metadata": {
        "colab": {
          "base_uri": "https://localhost:8080/"
        },
        "id": "xv0V7_vYT2-J",
        "outputId": "4df8e87f-0273-445c-e8ac-feeef0d16a4a"
      },
      "execution_count": 23,
      "outputs": [
        {
          "output_type": "execute_result",
          "data": {
            "text/plain": [
              "(404,)"
            ]
          },
          "metadata": {},
          "execution_count": 23
        }
      ]
    },
    {
      "cell_type": "code",
      "source": [
        "import matplotlib.pyplot as plt\n",
        "\n",
        "plt.hist(X_train[:,2])\n",
        "plt.show()"
      ],
      "metadata": {
        "colab": {
          "base_uri": "https://localhost:8080/",
          "height": 265
        },
        "id": "E578j4YaVYt5",
        "outputId": "5c49e773-27dd-4a84-c534-4b7ea54b2896"
      },
      "execution_count": 30,
      "outputs": [
        {
          "output_type": "display_data",
          "data": {
            "image/png": "[encoded data removed]",
            "text/plain": [
              "<Figure size 432x288 with 1 Axes>"
            ]
          },
          "metadata": {
            "needs_background": "light"
          }
        }
      ]
    },
    {
      "cell_type": "code",
      "source": [
        "## Z-score normalization\n",
        "\n",
        "temp = X_train[:,2]\n",
        "\n",
        "mean = tf.reduce_mean(temp)\n",
        "\n",
        "std = tf.math.reduce_std(temp)\n",
        "\n",
        "temp = (temp - mean)/std\n",
        "\n",
        "\n",
        "## min - max transformation\n",
        "\n",
        "temp = X_train[:, 2]\n",
        "min = tf.math.reduce_min(temp)\n",
        "max = tf.math.reduce_max(temp)\n",
        "\n",
        "temp = (temp - min)/(max - min)\n",
        "\n"
      ],
      "metadata": {
        "id": "Kx4c1qa5V270"
      },
      "execution_count": 40,
      "outputs": []
    },
    {
      "cell_type": "code",
      "source": [
        "plt.hist(temp)\n",
        "plt.show()"
      ],
      "metadata": {
        "colab": {
          "base_uri": "https://localhost:8080/",
          "height": 265
        },
        "id": "gcU_VS9DXpjF",
        "outputId": "47635111-32a7-46a5-be2b-c804f2b32229"
      },
      "execution_count": 41,
      "outputs": [
        {
          "output_type": "display_data",
          "data": {
            "image/png": "[encoded data removed]",
            "text/plain": [
              "<Figure size 432x288 with 1 Axes>"
            ]
          },
          "metadata": {
            "needs_background": "light"
          }
        }
      ]
    },
    {
      "cell_type": "code",
      "source": [
        "## implement model on given dataset\n",
        "\n",
        "from sklearn.linear_model import LinearRegression\n",
        "\n",
        "model = LinearRegression()\n",
        "model.fit(X_train, y_train)\n",
        "\n"
      ],
      "metadata": {
        "colab": {
          "base_uri": "https://localhost:8080/"
        },
        "id": "BDmBuqf1YC19",
        "outputId": "0da60c01-98ef-4eff-8320-17075a447386"
      },
      "execution_count": 42,
      "outputs": [
        {
          "output_type": "execute_result",
          "data": {
            "text/plain": [
              "LinearRegression()"
            ]
          },
          "metadata": {},
          "execution_count": 42
        }
      ]
    },
    {
      "cell_type": "code",
      "source": [
        "y_pred = model.predict(X_test)\n",
        "\n",
        "y_pred"
      ],
      "metadata": {
        "colab": {
          "base_uri": "https://localhost:8080/"
        },
        "id": "X80fyx2UbSti",
        "outputId": "1dbfcfe5-8420-4796-d598-f7c5245159b0"
      },
      "execution_count": 44,
      "outputs": [
        {
          "output_type": "execute_result",
          "data": {
            "text/plain": [
              "array([ 9.69267239, 21.05859431, 20.94145461, 34.25223414, 25.95902598,\n",
              "       20.56741038, 28.15310405, 25.07113862, 20.30519458, 22.82489511,\n",
              "       20.29027213, 18.07938917, 16.46141024, 35.31166595, 19.41369959,\n",
              "       19.34727116, 24.58140904, 21.01346252, 19.99079236, 23.79286427,\n",
              "       12.20780045, 17.14218992, 22.51468752, 12.92570511, 21.18070615,\n",
              "       23.94073547, 33.46176314, 24.2631555 , 13.35213096, 20.71939252,\n",
              "       23.45082103, 19.1486881 , 36.09743765, 23.47113531, 19.03141995,\n",
              "        5.92425733, 14.02090469, 22.96425377, 16.01731242, 27.09134249,\n",
              "       22.06997029, 28.61755389, 17.75679772, 34.75579014, 31.29455712,\n",
              "       24.73234165, 31.12655323, 18.09268992, 22.62638989, 24.21208909,\n",
              "       30.5854317 , 18.71860574, 10.50163617, 13.73779292, 34.4022841 ,\n",
              "       27.53140317, 18.08151522, 40.05101982, 37.63271513, 24.64021422,\n",
              "       25.73823434, 20.64369987, 20.33514699, 21.38393124, 24.63485497,\n",
              "       23.53071805, 17.42141466, 26.76911736,  3.83782148, 11.97063636,\n",
              "       24.2602519 , 23.67191799, 23.66639182,  8.4403269 , 28.52690962,\n",
              "       20.94071229, 20.44489658, 24.77678169, 33.77299778,  7.02038331,\n",
              "       24.55379254, 36.73923493, 16.09878612, 18.14663987, 20.48899554,\n",
              "       18.7928142 , 22.45683561, 26.19154506, 23.36585592, 28.89583791,\n",
              "       17.48243942, 16.05642916, 26.69532678, 28.1393996 , 35.04164989,\n",
              "       20.05308052, 36.25269116, 38.51475052, 25.13506119, 41.49062194,\n",
              "       34.65500235, 25.33950895])"
            ]
          },
          "metadata": {},
          "execution_count": 44
        }
      ]
    },
    {
      "cell_type": "code",
      "source": [
        "## calculating MSE error\n",
        "\n",
        "test_MSE = tf.reduce_mean(abs(y_pred - y_test))\n",
        "\n",
        "test_MSE"
      ],
      "metadata": {
        "colab": {
          "base_uri": "https://localhost:8080/"
        },
        "id": "8HbAU2_ybVRo",
        "outputId": "c7022c39-80b1-47cc-d1de-a5cb3346d757"
      },
      "execution_count": 53,
      "outputs": [
        {
          "output_type": "execute_result",
          "data": {
            "text/plain": [
              "<tf.Tensor: shape=(), dtype=float64, numpy=3.4641858124067193>"
            ]
          },
          "metadata": {},
          "execution_count": 53
        }
      ]
    },
    {
      "cell_type": "code",
      "source": [
        "## training error\n",
        "\n",
        "y_pred_train = model.predict(X_train)\n",
        "y_pred_train\n",
        "\n",
        "train_MSE = tf.reduce_mean(abs(y_pred_train - y_train))\n",
        "train_MSE"
      ],
      "metadata": {
        "colab": {
          "base_uri": "https://localhost:8080/"
        },
        "id": "LszD866Lb9Cy",
        "outputId": "2094ecd3-6de3-4e59-d249-a2f211c8689e"
      },
      "execution_count": 52,
      "outputs": [
        {
          "output_type": "execute_result",
          "data": {
            "text/plain": [
              "<tf.Tensor: shape=(), dtype=float64, numpy=3.3517390725615477>"
            ]
          },
          "metadata": {},
          "execution_count": 52
        }
      ]
    },
    {
      "cell_type": "code",
      "source": [
        "## with normalization on all the dataset\n",
        "\n",
        "from sklearn import preprocessing\n",
        "\n",
        "X_train = preprocessing.normalize(X_train, norm = \"l2\")\n",
        "\n",
        "model = LinearRegression()\n",
        "model.fit(X_train, y_train)\n"
      ],
      "metadata": {
        "colab": {
          "base_uri": "https://localhost:8080/"
        },
        "id": "SpZOi-abcRac",
        "outputId": "4b1bf744-8a43-415f-9a42-84f2434ea965"
      },
      "execution_count": 56,
      "outputs": [
        {
          "output_type": "execute_result",
          "data": {
            "text/plain": [
              "LinearRegression()"
            ]
          },
          "metadata": {},
          "execution_count": 56
        }
      ]
    },
    {
      "cell_type": "code",
      "source": [
        "X_test = preprocessing.normalize(X_test, norm = 'l2')\n",
        "\n",
        "y_pred = model.predict(X_test)\n",
        "\n",
        "test_MSE = tf.reduce_mean((y_pred - y_test))\n",
        "\n",
        "test_MSE"
      ],
      "metadata": {
        "colab": {
          "base_uri": "https://localhost:8080/"
        },
        "id": "uhYEN082eUDP",
        "outputId": "ceaf8efb-3692-4014-e1df-894d0919378e"
      },
      "execution_count": 57,
      "outputs": [
        {
          "output_type": "execute_result",
          "data": {
            "text/plain": [
              "<tf.Tensor: shape=(), dtype=float64, numpy=18.16551049349642>"
            ]
          },
          "metadata": {},
          "execution_count": 57
        }
      ]
    },
    {
      "cell_type": "code",
      "source": [
        "\n",
        "test_MSE = tf.reduce_mean(abs(y_pred - y_test))\n",
        "\n",
        "test_MSE"
      ],
      "metadata": {
        "colab": {
          "base_uri": "https://localhost:8080/"
        },
        "id": "dlOAJ4iCexnO",
        "outputId": "e0025c86-0efd-489e-c4a6-2f699fa579fb"
      },
      "execution_count": 59,
      "outputs": [
        {
          "output_type": "execute_result",
          "data": {
            "text/plain": [
              "<tf.Tensor: shape=(), dtype=float64, numpy=3.1678706010618187>"
            ]
          },
          "metadata": {},
          "execution_count": 59
        }
      ]
    },
    {
      "cell_type": "code",
      "source": [
        "## implement linear regreesion model using tensorflow\n",
        "\n",
        "from tensorflow.keras import layers\n",
        "\n",
        "model = tf.keras.Sequential(\n",
        "    layers.Dense(units = 1)#,\n",
        "    #layers.Dense(64, activation= 'relu'),\n",
        "    #layers.Dense(64, activation= 'relu'),\n",
        "    #layers.Dense(1)\n",
        ")\n",
        "\n",
        "model.compile(optimizer=tf.optimizers.Adam(learning_rate=0.5), loss='mean_absolute_error')"
      ],
      "metadata": {
        "id": "nUCkB4_Yez6F"
      },
      "execution_count": 88,
      "outputs": []
    },
    {
      "cell_type": "code",
      "source": [
        "## train model\n",
        "\n",
        "history = model.fit(\n",
        "    X_train,\n",
        "    y_train,\n",
        "    epochs = 50,\n",
        "    batch_size = 10,\n",
        "    validation_split = 0.2\n",
        ")"
      ],
      "metadata": {
        "colab": {
          "base_uri": "https://localhost:8080/"
        },
        "id": "8B4vVs5zmUHT",
        "outputId": "a5477c01-25ad-44b9-a73e-4213f41268a3"
      },
      "execution_count": 89,
      "outputs": [
        {
          "output_type": "stream",
          "name": "stdout",
          "text": [
            "Epoch 1/50\n",
            "33/33 [==============================] - 1s 5ms/step - loss: 9.6737 - val_loss: 6.2474\n",
            "Epoch 2/50\n",
            "33/33 [==============================] - 0s 2ms/step - loss: 5.8729 - val_loss: 5.6907\n",
            "Epoch 3/50\n",
            "33/33 [==============================] - 0s 2ms/step - loss: 5.1558 - val_loss: 5.3683\n",
            "Epoch 4/50\n",
            "33/33 [==============================] - 0s 2ms/step - loss: 5.0416 - val_loss: 5.6180\n",
            "Epoch 5/50\n",
            "33/33 [==============================] - 0s 3ms/step - loss: 4.9309 - val_loss: 5.5010\n",
            "Epoch 6/50\n",
            "33/33 [==============================] - 0s 3ms/step - loss: 4.8425 - val_loss: 5.2120\n",
            "Epoch 7/50\n",
            "33/33 [==============================] - 0s 2ms/step - loss: 4.7682 - val_loss: 5.2023\n",
            "Epoch 8/50\n",
            "33/33 [==============================] - 0s 2ms/step - loss: 4.7299 - val_loss: 5.1984\n",
            "Epoch 9/50\n",
            "33/33 [==============================] - 0s 2ms/step - loss: 4.7775 - val_loss: 5.2299\n",
            "Epoch 10/50\n",
            "33/33 [==============================] - 0s 3ms/step - loss: 4.6867 - val_loss: 5.1341\n",
            "Epoch 11/50\n",
            "33/33 [==============================] - 0s 2ms/step - loss: 4.7178 - val_loss: 5.2828\n",
            "Epoch 12/50\n",
            "33/33 [==============================] - 0s 2ms/step - loss: 4.6259 - val_loss: 5.1106\n",
            "Epoch 13/50\n",
            "33/33 [==============================] - 0s 3ms/step - loss: 4.5677 - val_loss: 5.0729\n",
            "Epoch 14/50\n",
            "33/33 [==============================] - 0s 2ms/step - loss: 4.5097 - val_loss: 5.2537\n",
            "Epoch 15/50\n",
            "33/33 [==============================] - 0s 3ms/step - loss: 4.6012 - val_loss: 5.3832\n",
            "Epoch 16/50\n",
            "33/33 [==============================] - 0s 2ms/step - loss: 4.5833 - val_loss: 4.9835\n",
            "Epoch 17/50\n",
            "33/33 [==============================] - 0s 2ms/step - loss: 4.5490 - val_loss: 5.0225\n",
            "Epoch 18/50\n",
            "33/33 [==============================] - 0s 2ms/step - loss: 4.5206 - val_loss: 4.9501\n",
            "Epoch 19/50\n",
            "33/33 [==============================] - 0s 2ms/step - loss: 4.3891 - val_loss: 4.9610\n",
            "Epoch 20/50\n",
            "33/33 [==============================] - 0s 2ms/step - loss: 4.4677 - val_loss: 5.2536\n",
            "Epoch 21/50\n",
            "33/33 [==============================] - 0s 2ms/step - loss: 4.4253 - val_loss: 4.9377\n",
            "Epoch 22/50\n",
            "33/33 [==============================] - 0s 2ms/step - loss: 4.3479 - val_loss: 5.1974\n",
            "Epoch 23/50\n",
            "33/33 [==============================] - 0s 2ms/step - loss: 4.3593 - val_loss: 5.0447\n",
            "Epoch 24/50\n",
            "33/33 [==============================] - 0s 2ms/step - loss: 4.3494 - val_loss: 4.8555\n",
            "Epoch 25/50\n",
            "33/33 [==============================] - 0s 2ms/step - loss: 4.3781 - val_loss: 4.9629\n",
            "Epoch 26/50\n",
            "33/33 [==============================] - 0s 2ms/step - loss: 4.3424 - val_loss: 4.8385\n",
            "Epoch 27/50\n",
            "33/33 [==============================] - 0s 2ms/step - loss: 4.4097 - val_loss: 5.4626\n",
            "Epoch 28/50\n",
            "33/33 [==============================] - 0s 2ms/step - loss: 4.5061 - val_loss: 4.8440\n",
            "Epoch 29/50\n",
            "33/33 [==============================] - 0s 3ms/step - loss: 4.2275 - val_loss: 4.8186\n",
            "Epoch 30/50\n",
            "33/33 [==============================] - 0s 3ms/step - loss: 4.2817 - val_loss: 4.9289\n",
            "Epoch 31/50\n",
            "33/33 [==============================] - 0s 2ms/step - loss: 4.2311 - val_loss: 4.8204\n",
            "Epoch 32/50\n",
            "33/33 [==============================] - 0s 3ms/step - loss: 4.1974 - val_loss: 4.9090\n",
            "Epoch 33/50\n",
            "33/33 [==============================] - 0s 2ms/step - loss: 4.2983 - val_loss: 4.7605\n",
            "Epoch 34/50\n",
            "33/33 [==============================] - 0s 3ms/step - loss: 4.2788 - val_loss: 4.7559\n",
            "Epoch 35/50\n",
            "33/33 [==============================] - 0s 2ms/step - loss: 4.1555 - val_loss: 4.8005\n",
            "Epoch 36/50\n",
            "33/33 [==============================] - 0s 3ms/step - loss: 4.1808 - val_loss: 4.8006\n",
            "Epoch 37/50\n",
            "33/33 [==============================] - 0s 2ms/step - loss: 4.1986 - val_loss: 4.9232\n",
            "Epoch 38/50\n",
            "33/33 [==============================] - 0s 3ms/step - loss: 4.1589 - val_loss: 4.9328\n",
            "Epoch 39/50\n",
            "33/33 [==============================] - 0s 2ms/step - loss: 4.1934 - val_loss: 4.7490\n",
            "Epoch 40/50\n",
            "33/33 [==============================] - 0s 2ms/step - loss: 4.2508 - val_loss: 5.0773\n",
            "Epoch 41/50\n",
            "33/33 [==============================] - 0s 3ms/step - loss: 4.1408 - val_loss: 4.7576\n",
            "Epoch 42/50\n",
            "33/33 [==============================] - 0s 3ms/step - loss: 4.1438 - val_loss: 4.8953\n",
            "Epoch 43/50\n",
            "33/33 [==============================] - 0s 3ms/step - loss: 4.1406 - val_loss: 4.7048\n",
            "Epoch 44/50\n",
            "33/33 [==============================] - 0s 2ms/step - loss: 4.0788 - val_loss: 4.6892\n",
            "Epoch 45/50\n",
            "33/33 [==============================] - 0s 2ms/step - loss: 4.0696 - val_loss: 4.8236\n",
            "Epoch 46/50\n",
            "33/33 [==============================] - 0s 3ms/step - loss: 4.0892 - val_loss: 4.9305\n",
            "Epoch 47/50\n",
            "33/33 [==============================] - 0s 2ms/step - loss: 4.4352 - val_loss: 4.6776\n",
            "Epoch 48/50\n",
            "33/33 [==============================] - 0s 3ms/step - loss: 4.1767 - val_loss: 4.6698\n",
            "Epoch 49/50\n",
            "33/33 [==============================] - 0s 2ms/step - loss: 4.0263 - val_loss: 4.8029\n",
            "Epoch 50/50\n",
            "33/33 [==============================] - 0s 3ms/step - loss: 4.0932 - val_loss: 4.7231\n"
          ]
        }
      ]
    },
    {
      "cell_type": "code",
      "source": [
        "history.history"
      ],
      "metadata": {
        "colab": {
          "base_uri": "https://localhost:8080/"
        },
        "id": "A3kpLAdcmoZq",
        "outputId": "0d6d2c2b-96ad-420c-a728-8053928c7c7d"
      },
      "execution_count": 74,
      "outputs": [
        {
          "output_type": "execute_result",
          "data": {
            "text/plain": [
              "{'loss': [4.461400985717773,\n",
              "  4.495414733886719,\n",
              "  4.381473064422607,\n",
              "  4.417571067810059,\n",
              "  4.39009428024292,\n",
              "  4.33073091506958,\n",
              "  4.335663318634033,\n",
              "  4.302309989929199,\n",
              "  4.291409969329834,\n",
              "  4.3212151527404785,\n",
              "  4.337247371673584,\n",
              "  4.305604934692383,\n",
              "  4.3260111808776855,\n",
              "  4.272209644317627,\n",
              "  4.283989906311035,\n",
              "  4.2141289710998535,\n",
              "  4.278946876525879,\n",
              "  4.222083568572998,\n",
              "  4.249330043792725,\n",
              "  4.2455854415893555,\n",
              "  4.2281389236450195,\n",
              "  4.225119113922119,\n",
              "  4.169029712677002,\n",
              "  4.209986686706543,\n",
              "  4.153877258300781,\n",
              "  4.156938076019287,\n",
              "  4.157281875610352,\n",
              "  4.14055871963501,\n",
              "  4.207640647888184,\n",
              "  4.113517761230469,\n",
              "  4.149768352508545,\n",
              "  4.122306823730469,\n",
              "  4.0770368576049805,\n",
              "  4.13120698928833,\n",
              "  4.069446563720703,\n",
              "  4.262613296508789,\n",
              "  4.310723781585693,\n",
              "  4.0884881019592285,\n",
              "  4.073154449462891,\n",
              "  4.085608005523682,\n",
              "  4.208122253417969,\n",
              "  4.0942840576171875,\n",
              "  4.045319080352783,\n",
              "  4.0657172203063965,\n",
              "  4.035459518432617,\n",
              "  4.044917106628418,\n",
              "  4.014254093170166,\n",
              "  4.096888065338135,\n",
              "  4.0456037521362305,\n",
              "  4.056712627410889]}"
            ]
          },
          "metadata": {},
          "execution_count": 74
        }
      ]
    },
    {
      "cell_type": "code",
      "source": [
        "plt.plot(history.history['loss'])\n",
        "plt.plot(history.history['val_loss'])"
      ],
      "metadata": {
        "colab": {
          "base_uri": "https://localhost:8080/",
          "height": 282
        },
        "id": "vJDipCySnBIN",
        "outputId": "7d338be8-1c1b-4aba-c01c-772b78bae9fe"
      },
      "execution_count": 90,
      "outputs": [
        {
          "output_type": "execute_result",
          "data": {
            "text/plain": [
              "[<matplotlib.lines.Line2D at 0x7f47945d6ed0>]"
            ]
          },
          "metadata": {},
          "execution_count": 90
        },
        {
          "output_type": "display_data",
          "data": {
            "image/png": "[encoded data removed]",
            "text/plain": [
              "<Figure size 432x288 with 1 Axes>"
            ]
          },
          "metadata": {
            "needs_background": "light"
          }
        }
      ]
    },
    {
      "cell_type": "code",
      "source": [
        ""
      ],
      "metadata": {
        "id": "VupGF6w1n34o"
      },
      "execution_count": null,
      "outputs": []
    }
  ]
}